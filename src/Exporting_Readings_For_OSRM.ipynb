{
 "cells": [
  {
   "cell_type": "code",
   "execution_count": null,
   "metadata": {
    "collapsed": false,
    "scrolled": false
   },
   "outputs": [],
   "source": [
    "import cProfile\n",
    "import functools\n",
    "import geopy\n",
    "import itertools\n",
    "from matplotlib import collections as mc\n",
    "import matplotlib.pyplot as plt\n",
    "import numpy as np\n",
    "import pandas as pd\n",
    "import pyproj\n",
    "import requests\n",
    "import scipy as sp\n",
    "import rtree\n",
    "import seaborn as sb\n",
    "from scipy import signal\n",
    "# import shapely\n",
    "import shapely.geometry\n",
    "%pylab inline\n",
    "\n",
    "import data_munging"
   ]
  },
  {
   "cell_type": "raw",
   "metadata": {},
   "source": [
    "Here, we are going to aggregate data in small bins and export it to a raster file readable by OSRM."
   ]
  },
  {
   "cell_type": "code",
   "execution_count": null,
   "metadata": {
    "collapsed": false
   },
   "outputs": [],
   "source": [
    "rides, readings = data_munging.read_raw_data()\n",
    "readings = data_munging.clean_readings(readings)\n",
    "readings = data_munging.add_proj_to_readings(readings, data_munging.NAD83)"
   ]
  },
  {
   "cell_type": "code",
   "execution_count": null,
   "metadata": {
    "collapsed": false
   },
   "outputs": [],
   "source": [
    "reload(data_munging)"
   ]
  },
  {
   "cell_type": "code",
   "execution_count": null,
   "metadata": {
    "collapsed": true
   },
   "outputs": [],
   "source": [
    "chi_readings = data_munging.filter_readings_to_chicago(readings)"
   ]
  },
  {
   "cell_type": "code",
   "execution_count": null,
   "metadata": {
    "collapsed": false
   },
   "outputs": [],
   "source": [
    "chi_readings = data_munging.filter_to_good_readings(chi_readings)"
   ]
  },
  {
   "cell_type": "code",
   "execution_count": null,
   "metadata": {
    "collapsed": false
   },
   "outputs": [],
   "source": [
    "print rides.shape\n",
    "print readings.shape\n",
    "n, p = readings.shape"
   ]
  },
  {
   "cell_type": "code",
   "execution_count": null,
   "metadata": {
    "collapsed": false
   },
   "outputs": [],
   "source": [
    "chi_readings.plot(x='start_lon', y='start_lat', kind='scatter')\n",
    "config = plt.gcf()\n",
    "config.set_size_inches(12, 12)\n",
    "plt.show()"
   ]
  },
  {
   "cell_type": "code",
   "execution_count": null,
   "metadata": {
    "collapsed": false
   },
   "outputs": [],
   "source": [
    "chi_readings.plot(x='start_x', y='start_y', kind='scatter')\n",
    "config = plt.gcf()\n",
    "config.set_size_inches(12, 12)\n",
    "plt.plot\n",
    "plt.show()"
   ]
  },
  {
   "cell_type": "code",
   "execution_count": null,
   "metadata": {
    "collapsed": false
   },
   "outputs": [],
   "source": [
    "max_lat = np.max(chi_readings['start_lat'])\n",
    "max_lon = np.max(chi_readings['start_lon'])\n",
    "min_lat = np.min(chi_readings['start_lat'])\n",
    "min_lon = np.min(chi_readings['start_lon'])"
   ]
  },
  {
   "cell_type": "code",
   "execution_count": null,
   "metadata": {
    "collapsed": true
   },
   "outputs": [],
   "source": [
    "max_x = np.max(chi_readings['start_x'])\n",
    "max_y = np.max(chi_readings['start_y'])\n",
    "min_x = np.min(chi_readings['start_x'])\n",
    "min_y = np.min(chi_readings['start_y'])"
   ]
  },
  {
   "cell_type": "code",
   "execution_count": null,
   "metadata": {
    "collapsed": true
   },
   "outputs": [],
   "source": [
    "x_range = max_x - min_x\n",
    "y_range = max_y - min_y"
   ]
  },
  {
   "cell_type": "code",
   "execution_count": null,
   "metadata": {
    "collapsed": false
   },
   "outputs": [],
   "source": [
    "data_munging.calc_dist(max_lon, max_lat, min_lon, min_lat)"
   ]
  },
  {
   "cell_type": "code",
   "execution_count": null,
   "metadata": {
    "collapsed": false
   },
   "outputs": [],
   "source": [
    "north_south_meters = data_munging.calc_dist(max_lon, max_lat, min_lon, max_lat)\n",
    "east_west_meters = data_munging.calc_dist(max_lon, max_lat, max_lon, min_lat)\n",
    "print north_south_meters\n",
    "print east_west_meters"
   ]
  },
  {
   "cell_type": "code",
   "execution_count": null,
   "metadata": {
    "collapsed": true
   },
   "outputs": [],
   "source": [
    "patch_size = 5"
   ]
  },
  {
   "cell_type": "code",
   "execution_count": null,
   "metadata": {
    "collapsed": false
   },
   "outputs": [],
   "source": [
    "north_south_patches = int(np.ceil(north_south_meters / patch_size))\n",
    "east_west_patches = int(np.ceil(east_west_meters / patch_size))"
   ]
  },
  {
   "cell_type": "code",
   "execution_count": null,
   "metadata": {
    "collapsed": true
   },
   "outputs": [],
   "source": [
    "x_step = x_range / east_west_patches\n",
    "y_step = y_range / north_south_patches"
   ]
  },
  {
   "cell_type": "code",
   "execution_count": null,
   "metadata": {
    "collapsed": false
   },
   "outputs": [],
   "source": [
    "rastered_pavement_quality = np.zeros((north_south_patches, east_west_patches))"
   ]
  },
  {
   "cell_type": "code",
   "execution_count": null,
   "metadata": {
    "collapsed": false
   },
   "outputs": [],
   "source": [
    "readings_idx = data_munging.insert_readings_rtree(chi_readings)"
   ]
  },
  {
   "cell_type": "code",
   "execution_count": null,
   "metadata": {
    "collapsed": false
   },
   "outputs": [],
   "source": [
    "chi_readings['abs_mean_over_speed'] = (chi_readings['abs_mean_total'] /\n",
    "                                       chi_readings['gps_speed'])"
   ]
  },
  {
   "cell_type": "code",
   "execution_count": null,
   "metadata": {
    "collapsed": false
   },
   "outputs": [],
   "source": [
    "np.mean(chi_readings['abs_mean_over_speed'][[]])"
   ]
  },
  {
   "cell_type": "code",
   "execution_count": null,
   "metadata": {
    "collapsed": false
   },
   "outputs": [],
   "source": [
    "total_itrs = 0\n",
    "for i, j in itertools.product(range(north_south_patches), range(east_west_patches)):\n",
    "    total_itrs += 1\n",
    "    if total_itrs % 1000000 == 0:\n",
    "        print total_itrs\n",
    "    patch_bb = (min_x + x_step * j, min_y + y_step * i,\n",
    "                min_x + x_step * (j + 1), min_y + y_step * (i + 1))\n",
    "    segs_in_patch = list(readings_idx.intersection(patch_bb))\n",
    "    if len(segs_in_patch) > 0:\n",
    "        rastered_pavement_quality[i, j] = np.mean(chi_readings['abs_mean_over_speed'][segs_in_patch])"
   ]
  },
  {
   "cell_type": "code",
   "execution_count": null,
   "metadata": {
    "collapsed": false
   },
   "outputs": [],
   "source": [
    "print north_south_patches\n",
    "print east_west_patches"
   ]
  },
  {
   "cell_type": "code",
   "execution_count": null,
   "metadata": {
    "collapsed": false
   },
   "outputs": [],
   "source": [
    "print north_south_patches * east_west_patches"
   ]
  },
  {
   "cell_type": "code",
   "execution_count": null,
   "metadata": {
    "collapsed": false
   },
   "outputs": [],
   "source": [
    "for i, j in itertools.product(range(north_south_patches), range(east_west_patches)):\n",
    "    patch_bb = (min_x + x_step * j, min_y + y_step * i,\n",
    "                min_x + x_step * (j + 1), min_y + y_step * (i + 1))\n",
    "    segs_in_patch = list(readings_idx.intersection(patch_bb))\n",
    "    pavement_quality = np.mean(chi_readings['abs_mean_over_speed'][segs_in_patch])\n",
    "    if pavement_quality is np.nan:\n",
    "        pavement_quality = 0\n",
    "    rastered_pavement_quality[i, j] = pavement_quality"
   ]
  },
  {
   "cell_type": "code",
   "execution_count": null,
   "metadata": {
    "collapsed": true
   },
   "outputs": [],
   "source": [
    "rastered_pavement_quality."
   ]
  },
  {
   "cell_type": "code",
   "execution_count": null,
   "metadata": {
    "collapsed": false
   },
   "outputs": [],
   "source": [
    "chi_readings.plot(x='start_x', y='start_y', kind='scatter')\n",
    "plt.plot([patch_bb[0], patch_bb[2] + 5000],\n",
    "         [patch_bb[1], patch_bb[3] + 2000], color='red')\n",
    "config = plt.gcf()\n",
    "config.set_size_inches(12, 12)\n",
    "plt.show()"
   ]
  },
  {
   "cell_type": "code",
   "execution_count": null,
   "metadata": {
    "collapsed": false
   },
   "outputs": [],
   "source": [
    "def raster_closure():\n",
    "    for i, j in itertools.product(range(100), range(100)):\n",
    "        patch_bb = (min_x + x_step * j, min_y + y_step * i,\n",
    "                    min_x + x_step * (j + 1), min_y + y_step * (i + 1))\n",
    "        segs_in_patch = list(readings_idx.intersection(patch_bb))\n",
    "        if len(segs_in_patch) > 0:\n",
    "            rastered_pavement_quality[i, j] = np.mean(chi_readings['abs_mean_over_speed'][segs_in_patch])"
   ]
  },
  {
   "cell_type": "code",
   "execution_count": null,
   "metadata": {
    "collapsed": false
   },
   "outputs": [],
   "source": [
    "a_profile = cProfile.Profile()"
   ]
  },
  {
   "cell_type": "code",
   "execution_count": null,
   "metadata": {
    "collapsed": false
   },
   "outputs": [],
   "source": [
    "ran_profile = a_profile.run('raster_closure()')"
   ]
  },
  {
   "cell_type": "code",
   "execution_count": null,
   "metadata": {
    "collapsed": false
   },
   "outputs": [],
   "source": [
    "ran_profile.print_stats()"
   ]
  },
  {
   "cell_type": "code",
   "execution_count": null,
   "metadata": {
    "collapsed": true
   },
   "outputs": [],
   "source": [
    "a"
   ]
  },
  {
   "cell_type": "code",
   "execution_count": null,
   "metadata": {
    "collapsed": false
   },
   "outputs": [],
   "source": [
    "print chi_readings['start_lon'][0]\n",
    "print chi_readings['start_lat'][0]"
   ]
  }
 ],
 "metadata": {
  "kernelspec": {
   "display_name": "Python 2",
   "language": "python",
   "name": "python2"
  },
  "language_info": {
   "codemirror_mode": {
    "name": "ipython",
    "version": 2
   },
   "file_extension": ".py",
   "mimetype": "text/x-python",
   "name": "python",
   "nbconvert_exporter": "python",
   "pygments_lexer": "ipython2",
   "version": "2.7.11"
  }
 },
 "nbformat": 4,
 "nbformat_minor": 0
}

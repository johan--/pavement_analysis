{
 "cells": [
  {
   "cell_type": "markdown",
   "metadata": {
    "collapsed": true,
    "slideshow": {
     "slide_type": "slide"
    }
   },
   "source": [
    "# Personalized Bicycle Routing\n",
    "\n",
    "### A Chi Hack Night Production\n"
   ]
  },
  {
   "cell_type": "markdown",
   "metadata": {
    "slideshow": {
     "slide_type": "slide"
    }
   },
   "source": [
    "# Ethos\n",
    "\n",
    "- Environment\n",
    "- Health\n",
    "- Makes cities more person-centric\n",
    "- Economic"
   ]
  },
  {
   "cell_type": "markdown",
   "metadata": {
    "collapsed": true,
    "slideshow": {
     "slide_type": "notes"
    }
   },
   "source": [
    "Justification for Cycling\n",
    "\n",
    "\n",
    "What is Chi Hack Night\n",
    "Ethos: empower cyclists and provide open data and tools \n",
    "to improve the urban cycling experience\n",
    "Collective of civically-minded hackers who meet at the Merch Mart\n",
    "\n",
    "Obstacles to Cycling\n",
    "Congested roads\n",
    "No bicycle lanes\n",
    "Icy bicycle lanes\n",
    "Potholes/divots in road/cracked pavement\n",
    "Road closings\n",
    "\n",
    "Pain Points\n",
    "Western and Ashland versus Damen\n",
    "Open Grate Bridges\n",
    "\n",
    "\n",
    "Personalized Bicycle Routing\n",
    "Mark up OSM with relevant information\n",
    "Collect Surface Quality Data (Project Pavement)\n",
    "Collect Subjective Experience (Ride-Report and Stress Map)\n",
    "Integrate all of these data sources with OSRM and Leaflet-Routing-Machine\n",
    "\n",
    "Project Pavement\n",
    "\n",
    "\n",
    "Ride-Report\n",
    "\n",
    "OSRM\n",
    "\n",
    "Policy Implications\n",
    "Show bike equity\n",
    "Talk about how usability score could determine bicycle deserts\n",
    "\n",
    "\n",
    "Future Directions\n",
    "\n",
    "Ride Report\n",
    "Evan and William\n",
    "\n",
    "Michael Hassin- iOS and rails app\n",
    "Steven Vance - data guy and bicycle outreach expert\n",
    "Nate Hutcheson - project management\n",
    "Joshua Shin - Android App (give him a job!)\n",
    "\n"
   ]
  }
 ],
 "metadata": {
  "celltoolbar": "Slideshow",
  "kernelspec": {
   "display_name": "Python 2",
   "language": "python",
   "name": "python2"
  },
  "language_info": {
   "codemirror_mode": {
    "name": "ipython",
    "version": 2
   },
   "file_extension": ".py",
   "mimetype": "text/x-python",
   "name": "python",
   "nbconvert_exporter": "python",
   "pygments_lexer": "ipython2",
   "version": "2.7.11"
  }
 },
 "nbformat": 4,
 "nbformat_minor": 0
}

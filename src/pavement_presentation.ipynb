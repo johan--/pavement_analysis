{
 "cells": [
  {
   "cell_type": "code",
   "execution_count": 9,
   "metadata": {
    "collapsed": false
   },
   "outputs": [
    {
     "name": "stdout",
     "output_type": "stream",
     "text": [
      "Populating the interactive namespace from numpy and matplotlib\n"
     ]
    },
    {
     "name": "stderr",
     "output_type": "stream",
     "text": [
      "WARNING: pylab import has clobbered these variables: ['colors']\n",
      "`%matplotlib` prevents importing * from pylab and numpy\n"
     ]
    }
   ],
   "source": [
    "import collections\n",
    "import functools\n",
    "from imposm.parser import OSMParser\n",
    "import json\n",
    "from matplotlib import collections as mc\n",
    "import matplotlib.pyplot as plt\n",
    "import matplotlib.colors as colors\n",
    "import matplotlib.cm as cmx\n",
    "from numpy import nan\n",
    "import numpy as np\n",
    "import pandas as pd\n",
    "import pyproj\n",
    "import requests\n",
    "import scipy as sp\n",
    "import rtree\n",
    "# import seaborn as sb\n",
    "from scipy import signal\n",
    "# import shapely\n",
    "import shapely.geometry\n",
    "%pylab inline\n",
    "\n",
    "import data_munging"
   ]
  },
  {
   "cell_type": "markdown",
   "metadata": {
    "collapsed": true,
    "slideshow": {
     "slide_type": "slide"
    }
   },
   "source": [
    "# Personalized Bicycle Routing\n",
    "\n",
    "### A Chi Hack Night Production\n"
   ]
  },
  {
   "cell_type": "markdown",
   "metadata": {
    "slideshow": {
     "slide_type": "slide"
    }
   },
   "source": [
    "# We want more people on bicycles\n",
    "\n",
    "![img](http://www.trbimg.com/img-554cfddb/turbine/redeye-school-bike-clubs-bloomingdale-trail-20150508)\n",
    "\n"
   ]
  },
  {
   "cell_type": "markdown",
   "metadata": {
    "collapsed": true,
    "slideshow": {
     "slide_type": "notes"
    }
   },
   "source": [
    "- Environment\n",
    "- Health\n",
    "- Happiness\n",
    "- Economic"
   ]
  },
  {
   "cell_type": "markdown",
   "metadata": {
    "slideshow": {
     "slide_type": "slide"
    }
   },
   "source": [
    "# Who are we?\n",
    "[![chi hack logo][2]][1]\n",
    "\n",
    "  [1]: http://chihacknight.org/\n",
    "  [2]: http://chihacknight.org/images/logo/logo.png \n",
    "\n",
    "__\"a group of thousands of designers, academic researchers, data journalists, activists, policy wonks, web developers and curious citizens who want to make our city more just, equitable, transparent and delightful to live in through data, design and technology.\"__\n",
    "\n",
    "http://www.chihacknight.org\n"
   ]
  },
  {
   "cell_type": "markdown",
   "metadata": {
    "slideshow": {
     "slide_type": "subslide"
    }
   },
   "source": [
    "# Who am I?\n",
    "\n",
    "A data scientist at Tempus, (formerly of Allstate), and a bicycle commuter.\n",
    "\n",
    "![img](http://www.tempus.com/wp-content/themes/tempus-theme/images/logo.png)"
   ]
  },
  {
   "cell_type": "code",
   "execution_count": null,
   "metadata": {
    "collapsed": true
   },
   "outputs": [],
   "source": []
  },
  {
   "cell_type": "markdown",
   "metadata": {},
   "source": [
    "# Here's how I get to work\n",
    "\n",
    "![img](../dat/pix_for_presentation/home_to_work_google_map)\n",
    "https://www.google.com/maps/dir/4015+N+Avers+Ave,+Chicago,+IL+60618,+USA/600+W+Chicago+Ave,+Chicago,+IL/@41.9253389,-87.7185152,13z/data=!3m1!4b1!4m14!4m13!1m5!1m1!1s0x880fcdb8e1bb9bb9:0x68f076f1528bf96a!2m2!1d-87.7236269!2d41.954289!1m5!1m1!1s0x880fd333f2e9f011:0x10660e26e7c76a5c!2m2!1d-87.6436198!2d41.8973006!3e1"
   ]
  },
  {
   "cell_type": "markdown",
   "metadata": {},
   "source": [
    "# Obstacles to Cycling in Chicago\n",
    "\n"
   ]
  },
  {
   "cell_type": "markdown",
   "metadata": {
    "slideshow": {
     "slide_type": "subslide"
    }
   },
   "source": [
    "# Congested Roads\n",
    "\n",
    "![img](http://farm8.staticflickr.com/7397/8724364789_3b55b4c2fe_z.jpg)"
   ]
  },
  {
   "cell_type": "markdown",
   "metadata": {
    "slideshow": {
     "slide_type": "subslide"
    }
   },
   "source": [
    "# Icy Roads\n",
    "![img](http://www.streetsblog.org/wp-content/uploads/2011/01/wintry_biking.jpg)"
   ]
  },
  {
   "cell_type": "markdown",
   "metadata": {},
   "source": [
    "# Construction on Roads\n",
    "\n",
    "![img](https://farm4.staticflickr.com/3946/15515597589_c4740a7332_z.jpg)"
   ]
  },
  {
   "cell_type": "code",
   "execution_count": 12,
   "metadata": {
    "collapsed": false,
    "slideshow": {
     "slide_type": "notes"
    }
   },
   "outputs": [],
   "source": [
    "rides, readings = data_munging.read_raw_data()\n",
    "# This is here temporarily both to create a static dataset and because\n",
    "# some of the newer android readings are bogus and need to be removed.\n",
    "# rides = rides.loc[rides['created_at'] < '2016-03-01', :]\n",
    "# readings = readings.loc[readings['created_at'] < '2016-03-01', :]"
   ]
  },
  {
   "cell_type": "code",
   "execution_count": 13,
   "metadata": {
    "collapsed": false,
    "slideshow": {
     "slide_type": "subslide"
    }
   },
   "outputs": [
    {
     "data": {
      "text/plain": [
       "id                                                             5611\n",
       "created_at                               2015-10-22 23:12:41.285151\n",
       "updated_at                               2015-10-27 21:13:49.066056\n",
       "start_lat                                                   41.8968\n",
       "start_lon                                                  -87.6342\n",
       "end_lat                                                     41.8967\n",
       "end_lon                                                    -87.6342\n",
       "acceleration_x    ---\\n- 0.0809326171875\\n- 0.171295166015625\\n-...\n",
       "acceleration_y    ---\\n- -0.6805877685546875\\n- -0.6985168457031...\n",
       "acceleration_z    ---\\n- -0.207244873046875\\n- -0.50392150878906...\n",
       "angle_x                                                     1.59645\n",
       "angle_y                                                     2.48285\n",
       "angle_z                                                     2.16167\n",
       "ride_id                                                          41\n",
       "start_time                                              1.44556e+09\n",
       "end_time                                                1.44556e+09\n",
       "mean_g                                                     0.346415\n",
       "Name: 0, dtype: object"
      ]
     },
     "execution_count": 13,
     "metadata": {},
     "output_type": "execute_result"
    }
   ],
   "source": [
    "readings.loc[0, :]"
   ]
  },
  {
   "cell_type": "markdown",
   "metadata": {},
   "source": [
    "# Bad Pavement\n",
    "\n",
    "\n",
    "![img](http://1.bp.blogspot.com/-lQ3fB4MwTMo/UauRa1SW-4I/AAAAAAAACNg/oBj8WrG0rvs/s1600/2000Lincoln.JPG)"
   ]
  },
  {
   "cell_type": "markdown",
   "metadata": {},
   "source": [
    "# Unprotected (or absent!) bike lanes\n",
    "\n",
    "![img](http://3.bp.blogspot.com/-_Helgvgc7rw/UiTRDVnChzI/AAAAAAAACds/Xsn-x82at3Q/s1600/Ashland.JPG)"
   ]
  },
  {
   "cell_type": "markdown",
   "metadata": {},
   "source": [
    "# Pain Points\n",
    "https://www.google.com/maps/dir/4015+N+Avers+Ave,+Chicago,+IL+60618,+USA/41.9450308,-87.6547654/@41.9539148,-87.7068186,14z/am=t/data=!3m1!4b1!4m9!4m8!1m5!1m1!1s0x880fcdb8e1bb9bb9:0x68f076f1528bf96a!2m2!1d-87.7236269!2d41.954289!1m0!3e1\n",
    "![img](../dat/pix_for_presentation/ambiguous_home_to_wrigleyville_google_maps.png)"
   ]
  },
  {
   "cell_type": "markdown",
   "metadata": {},
   "source": [
    "# Empower Cyclists\n",
    "\n",
    "- Open data\n",
    "- Open tools\n",
    "- Information for individual cyclists\n",
    "- Information for city planners"
   ]
  },
  {
   "cell_type": "markdown",
   "metadata": {
    "slideshow": {
     "slide_type": "slide"
    }
   },
   "source": [
    "# Infrastructure\n",
    "\n",
    "- Android and iOS apps installed on mobile phones\n",
    "- Rails server on Heroku\n",
    "- Digital Ocean OSRM instance\n",
    "\n",
    "\n",
    "(should make picture)"
   ]
  },
  {
   "cell_type": "markdown",
   "metadata": {
    "slideshow": {
     "slide_type": "slide"
    }
   },
   "source": [
    "# Data Collection\n",
    "\n",
    "\n",
    "\n",
    "![img](../dat/pix_for_presentation/bibsy_with_phone_mount.jpg)"
   ]
  },
  {
   "cell_type": "markdown",
   "metadata": {
    "slideshow": {
     "slide_type": "subslide"
    }
   },
   "source": [
    "# Data Collection\n",
    "\n",
    "\n",
    "\n",
    "![img](../dat/pix_for_presentation/bibsy_with_phone_mount_circled.jpg)"
   ]
  },
  {
   "cell_type": "markdown",
   "metadata": {},
   "source": [
    "phone collects gps lat/lon once per second and gathers ~100HZ accelerometer data from x,y,z axesa\n",
    "\n",
    "note that z is not directly up and down!\n",
    "(show example row of data here)a\n"
   ]
  },
  {
   "cell_type": "markdown",
   "metadata": {},
   "source": [
    "# All Our Chicago Data\n",
    "\n",
    "![img](../dat/pix_for_presentation/chi_pavement_screenshot)\n",
    "http://project-pavement.herokuapp.com/map/chi"
   ]
  },
  {
   "cell_type": "markdown",
   "metadata": {},
   "source": [
    "# Goal\n",
    "\n",
    "Get a measure of pavement quality and an idea of this measure's accuracy all for road segments as defined in Open Street Map"
   ]
  },
  {
   "cell_type": "markdown",
   "metadata": {
    "slideshow": {
     "slide_type": "notes"
    }
   },
   "source": [
    "suffices to look at OSM level since segments always take into account intersections. Negligible to consider differing pavement quality for different parts of a road segment for start and destination"
   ]
  },
  {
   "cell_type": "markdown",
   "metadata": {},
   "source": [
    "# Possible Obstacles\n",
    "\n",
    "- bike/person combination responds to pavement bumpiness differently (think of this in terms of modeling vibrations in a system)\n",
    "- People take different routes over pavement (swerving to avoid bumps)\n",
    "- Potholes are measured by large instantaneous force as opposed to the constant vibration of riding over gravel\n",
    "- Roads change over time\n",
    "- Weather conditions might change road"
   ]
  },
  {
   "cell_type": "markdown",
   "metadata": {
    "slideshow": {
     "slide_type": "subslide"
    }
   },
   "source": [
    "# Possible Obstacles\n",
    "\n",
    "Fortunately for me, we don't have enough data yet to be able to address any of these problems. We are currently ignoring the \"pothole detection\" problem and focusing on high average vibration."
   ]
  },
  {
   "cell_type": "markdown",
   "metadata": {},
   "source": [
    "# "
   ]
  },
  {
   "cell_type": "markdown",
   "metadata": {},
   "source": [
    "# Normalizing Data\n",
    "\n",
    "- How do we aggregate pavement data across multiple riders and rides?\n"
   ]
  },
  {
   "cell_type": "markdown",
   "metadata": {},
   "source": [
    "# Future Directions\n",
    "\n",
    "- Integrate pavement data into a routing service via OSRM\n",
    "- Make data available to policy-makers, transportation planners, and cyclists"
   ]
  },
  {
   "cell_type": "markdown",
   "metadata": {
    "slideshow": {
     "slide_type": "slide"
    }
   },
   "source": [
    "# Future Directions\n",
    "\n",
    "https://ride.report/map\n",
    "\n",
    "![img](https://static.ride.report/static/promosite/img/map.b0bc905051ec.jpg)"
   ]
  },
  {
   "cell_type": "markdown",
   "metadata": {
    "collapsed": true,
    "slideshow": {
     "slide_type": "notes"
    }
   },
   "source": [
    "Justification for Cycling\n",
    "\n",
    "\n",
    "What is Chi Hack Night\n",
    "Ethos: empower cyclists and provide open data and tools \n",
    "to improve the urban cycling experience\n",
    "Collective of civically-minded hackers who meet at the Merch Mart\n",
    "\n",
    "Obstacles to Cycling\n",
    "Congested roads\n",
    "No bicycle lanes\n",
    "Icy bicycle lanes\n",
    "Potholes/divots in road/cracked pavement\n",
    "Road closings\n",
    "\n",
    "Pain Points\n",
    "Western and Ashland versus Damen\n",
    "Open Grate Bridges\n",
    "\n",
    "\n",
    "Personalized Bicycle Routing\n",
    "Mark up OSM with relevant information\n",
    "Collect Surface Quality Data (Project Pavement)\n",
    "Collect Subjective Experience (Ride-Report and Stress Map)\n",
    "Integrate all of these data sources with OSRM and Leaflet-Routing-Machine\n",
    "\n",
    "Project Pavement\n",
    "\n",
    "\n",
    "Ride-Report\n",
    "\n",
    "OSRM\n",
    "\n",
    "Policy Implications\n",
    "Show bike equity\n",
    "Talk about how usability score could determine bicycle deserts\n",
    "\n",
    "\n",
    "Future Directions\n",
    "\n",
    "Ride Report\n",
    "Evan and William\n",
    "\n",
    "Michael Hassin- iOS and rails app\n",
    "Steven Vance - data guy and bicycle outreach expert\n",
    "Nate Hutcheson - project management\n",
    "Joshua Shin - Android App (give him a job!)\n",
    "\n"
   ]
  }
 ],
 "metadata": {
  "celltoolbar": "Slideshow",
  "kernelspec": {
   "display_name": "Python 2",
   "language": "python",
   "name": "python2"
  },
  "language_info": {
   "codemirror_mode": {
    "name": "ipython",
    "version": 2
   },
   "file_extension": ".py",
   "mimetype": "text/x-python",
   "name": "python",
   "nbconvert_exporter": "python",
   "pygments_lexer": "ipython2",
   "version": "2.7.11"
  }
 },
 "nbformat": 4,
 "nbformat_minor": 0
}

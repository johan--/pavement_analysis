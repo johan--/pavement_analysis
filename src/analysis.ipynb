{
 "cells": [
  {
   "cell_type": "code",
   "execution_count": null,
   "metadata": {
    "collapsed": false,
    "scrolled": true
   },
   "outputs": [],
   "source": [
    "import functools\n",
    "import geopy\n",
    "import geopandas\n",
    "import matplotlib.pyplot as plt\n",
    "import numpy as np\n",
    "import pandas.tools.rplot as rplot\n",
    "import pandas as pd\n",
    "import pyproj\n",
    "import requests\n",
    "from scipy import signal\n",
    "%pylab inline"
   ]
  },
  {
   "cell_type": "code",
   "execution_count": null,
   "metadata": {
    "collapsed": false,
    "scrolled": true
   },
   "outputs": [],
   "source": [
    "rides = pd.read_csv('../csv_dump/rides.csv')\n",
    "readings = pd.read_csv('../csv_dump/readings.csv')"
   ]
  },
  {
   "cell_type": "code",
   "execution_count": null,
   "metadata": {
    "collapsed": true
   },
   "outputs": [],
   "source": [
    "#EPSG:3435\n",
    "#NAD83 / Illinois East (ftUS) (Google it)\n",
    "#Note that this this projection takes arguments in the form (lon, lat),\n",
    "#presumably to agree with the (x, y) output\n",
    "NAD83 = pyproj.Proj('+init=EPSG:3435')"
   ]
  },
  {
   "cell_type": "code",
   "execution_count": null,
   "metadata": {
    "collapsed": true,
    "scrolled": true
   },
   "outputs": [],
   "source": [
    "location_query = 'http://router.project-osrm.org/nearest?loc='"
   ]
  },
  {
   "cell_type": "code",
   "execution_count": null,
   "metadata": {
    "collapsed": false,
    "scrolled": true
   },
   "outputs": [],
   "source": [
    "print readings.start_lat[0]\n",
    "print readings.start_lon[0]"
   ]
  },
  {
   "cell_type": "code",
   "execution_count": null,
   "metadata": {
    "collapsed": false,
    "scrolled": true
   },
   "outputs": [],
   "source": [
    "print rides.columns\n",
    "print readings.columns"
   ]
  },
  {
   "cell_type": "code",
   "execution_count": null,
   "metadata": {
    "collapsed": false,
    "scrolled": true
   },
   "outputs": [],
   "source": [
    "# readings.sort(columns = ['ride_id', 'id'], inplace=True)\n",
    "readings.sort_values(by=['ride_id', 'id'], inplace=True)"
   ]
  },
  {
   "cell_type": "code",
   "execution_count": null,
   "metadata": {
    "collapsed": false,
    "scrolled": true
   },
   "outputs": [],
   "source": [
    "nearest_street = requests.get(location_query + str(readings.start_lat[0]) + ',' + str(readings.start_lon[0]))"
   ]
  },
  {
   "cell_type": "code",
   "execution_count": null,
   "metadata": {
    "collapsed": false
   },
   "outputs": [],
   "source": [
    "nearest_street.json()['name']"
   ]
  },
  {
   "cell_type": "code",
   "execution_count": null,
   "metadata": {
    "collapsed": false,
    "scrolled": true
   },
   "outputs": [],
   "source": [
    "# def string_to_array(str_array):\n",
    "#     if str_array.strip() == '---':\n",
    "#         return pd.Series()\n",
    "#     if str_array[:2] == '- ':\n",
    "#         return pd.Series(float(str_array[2:]))\n",
    "#     return pd.Series([float(i) for i in str_array[5:-1].split('\\n- ')])\n",
    "\n",
    "\n",
    "\n",
    "\n",
    "        \n",
    "# def string_to_array(str_array):\n",
    "#     if str_array != []:\n",
    "#         return_array = []\n",
    "#         for i, char in enumerate(str_array[3:].strip().split('\\n-')[:-1]):\n",
    "#             try:\n",
    "#                 float(char)\n",
    "#             except:\n",
    "#                 np.NaN\n",
    "\n",
    "#     return pd.Series([float(i) for i in str_array.strip()[3:].split('\\n-')])\n",
    "\n",
    "# for axis in ['x', 'y', 'z']:\n",
    "#     split_accel = readings['acceleration_' + axis].apply(string_to_array).stack()\n",
    "# (apply(Series, 1)\n",
    "# for i in readings.acceleration_x:\n",
    "#     assert(i.strip().split('\\n-')[0] == '---'s = df['ID'].apply(Series,1).stack())\n",
    "# a_thing = [float(i) for i in readings.acceleration_x[0].split('\\n-')[1:]]"
   ]
  },
  {
   "cell_type": "code",
   "execution_count": null,
   "metadata": {
    "collapsed": false,
    "scrolled": true
   },
   "outputs": [],
   "source": [
    "# for axis in ['x', 'y', 'z']:\n",
    "#     split_accel = readings['acceleration_' + axis].apply(string_to_array)\n",
    "#     split_accel.columns = ['acceleration_' + axis + '_' + str(l) for l in split_accel.columns]\n",
    "#     readings = readings.join(split_accel)"
   ]
  },
  {
   "cell_type": "code",
   "execution_count": null,
   "metadata": {
    "collapsed": false,
    "scrolled": true
   },
   "outputs": [],
   "source": [
    "def string_to_array(str_array):\n",
    "    if str_array.strip() == '---':\n",
    "        return pd.Series()\n",
    "    if str_array[:2] == '- ':\n",
    "        return pd.Series(float(str_array[2:]))\n",
    "    return np.array([float(i) for i in str_array[5:-1].split('\\n- ')])\n",
    "\n",
    "for axis in ['x', 'y', 'z']:\n",
    "    split_accel = readings['acceleration_' + axis].apply(string_to_array)\n",
    "    readings['num_accel_' + axis] = split_accel"
   ]
  },
  {
   "cell_type": "code",
   "execution_count": null,
   "metadata": {
    "collapsed": false
   },
   "outputs": [],
   "source": [
    "readings.loc[0, ['start_lon', 'start_lat']]"
   ]
  },
  {
   "cell_type": "code",
   "execution_count": null,
   "metadata": {
    "collapsed": false
   },
   "outputs": [],
   "source": [
    "NAD83 = pyproj.Proj('+init=EPSG:3435')\n",
    "def proj_apply(row, proj):\n",
    "    x,y = proj(*row)\n",
    "    return pd.Series({'x':x, 'y':y})\n",
    "NAD83_apply = functools.partial(proj_apply, proj=NAD83)\n",
    "# NAD83_apply = lambda x: pd.SeriesNAD83(*x)"
   ]
  },
  {
   "cell_type": "code",
   "execution_count": null,
   "metadata": {
    "collapsed": true
   },
   "outputs": [],
   "source": [
    "# lambdafunc = lambda x: pd.Series([x['mytime'].hour,\n",
    "#                                   x['mydate'].isocalendar()[1],\n",
    "#                                   x['mydate'].weekday()])\n",
    "\n",
    "# newcols = df.apply(lambdafunc, axis=1)\n",
    "# newcols.columns = ['hour', 'weekday', 'weeknum']\n",
    "# newdf = df.join(newcols)"
   ]
  },
  {
   "cell_type": "code",
   "execution_count": null,
   "metadata": {
    "collapsed": false,
    "scrolled": true
   },
   "outputs": [],
   "source": [
    "start_xy = readings.loc[:, ['start_lon', 'start_lat']].apply(NAD83_apply, axis=1)\n",
    "end_xy = readings.loc[:, ['end_lon', 'end_lat']].apply(NAD83_apply, axis=1)"
   ]
  },
  {
   "cell_type": "code",
   "execution_count": null,
   "metadata": {
    "collapsed": false
   },
   "outputs": [],
   "source": [
    "start_xy.columns = ('start_x', 'start_y')\n",
    "end_xy.columns = ('end_x', 'end_y')"
   ]
  },
  {
   "cell_type": "code",
   "execution_count": null,
   "metadata": {
    "collapsed": false
   },
   "outputs": [],
   "source": [
    "readings = readings.join(start_xy)\n",
    "readings = readings.join(end_xy)"
   ]
  },
  {
   "cell_type": "code",
   "execution_count": null,
   "metadata": {
    "collapsed": false
   },
   "outputs": [],
   "source": [
    "plot = rplot.RPlot(readings, x='start_x', y='start_y')\n",
    "plot.add(rplot.GeomPoint(size=0.1, colour=rplot.ScaleGradient))"
   ]
  },
  {
   "cell_type": "code",
   "execution_count": null,
   "metadata": {
    "collapsed": false
   },
   "outputs": [],
   "source": [
    "help(rplot.ScaleGradient('size'))"
   ]
  },
  {
   "cell_type": "code",
   "execution_count": null,
   "metadata": {
    "collapsed": true
   },
   "outputs": [],
   "source": [
    "plot.add(rplot.GeomPoint(size=80.0, colour=rplot.ScaleRandomColour('day'), shape=rplot.ScaleShape('size'), alpha=1.0))\n"
   ]
  },
  {
   "cell_type": "code",
   "execution_count": null,
   "metadata": {
    "collapsed": true
   },
   "outputs": [],
   "source": [
    "\n",
    "plot.add(rplot.GeomPoint(size=80.0, colour=rplot.ScaleRandomColour('day'), shape=rplot.ScaleShape('size'), alpha=1.0))"
   ]
  },
  {
   "cell_type": "code",
   "execution_count": null,
   "metadata": {
    "collapsed": false
   },
   "outputs": [],
   "source": [
    "readings.plot('start_x', 'start_y', kind='scatter')\n",
    "plt.axis('equal')\n",
    "config = plt.gcf()\n",
    "config.set_size_inches((15, 15))\n",
    "plt.show()\n",
    "\n"
   ]
  },
  {
   "cell_type": "code",
   "execution_count": null,
   "metadata": {
    "collapsed": false
   },
   "outputs": [],
   "source": [
    "\"\"\"It looks almost exactly the same if you use raw lon/lat. \"\"\"\n",
    "\n",
    "# readings.plot('start_lon', 'start_lat', kind='scatter')\n",
    "# plt.axis('equal')\n",
    "# config = plt.gcf()\n",
    "# config.set_size_inches((15, 25))\n",
    "# plt.show()"
   ]
  },
  {
   "cell_type": "code",
   "execution_count": null,
   "metadata": {
    "collapsed": false,
    "scrolled": true
   },
   "outputs": [],
   "source": [
    "subset_readings = readings[['ride_id', 'num_accel_x', 'num_accel_y', 'num_accel_z']]"
   ]
  },
  {
   "cell_type": "code",
   "execution_count": null,
   "metadata": {
    "collapsed": false,
    "scrolled": true
   },
   "outputs": [],
   "source": [
    "sum(subset_readings.ride_id == 1)"
   ]
  },
  {
   "cell_type": "code",
   "execution_count": null,
   "metadata": {
    "collapsed": true,
    "scrolled": true
   },
   "outputs": [],
   "source": [
    "ride_1_accels = pd.DataFrame()\n",
    "for axis in ['x', 'y', 'z']:\n",
    "    ride_1_accels[axis] = np.concatenate(list(readings['num_accel_' + axis][:587]), axis=1)"
   ]
  },
  {
   "cell_type": "code",
   "execution_count": null,
   "metadata": {
    "collapsed": true,
    "scrolled": true
   },
   "outputs": [],
   "source": [
    "readings['total_readings'] = readings.num_accel_x.apply(len)\n",
    "readings['duration'] = readings.end_time - readings.start_time"
   ]
  },
  {
   "cell_type": "code",
   "execution_count": null,
   "metadata": {
    "collapsed": false,
    "scrolled": true
   },
   "outputs": [],
   "source": [
    "readings.plot(x='duration', y='total_readings', kind='scatter')\n",
    "plt.show()"
   ]
  },
  {
   "cell_type": "code",
   "execution_count": null,
   "metadata": {
    "collapsed": false,
    "scrolled": true
   },
   "outputs": [],
   "source": [
    "(readings.total_readings / readings.duration).plot(kind='hist')"
   ]
  },
  {
   "cell_type": "code",
   "execution_count": null,
   "metadata": {
    "collapsed": false,
    "scrolled": true
   },
   "outputs": [],
   "source": [
    "readings.total_readings.plot(kind='hist', bins=1000)\n",
    "plt.show()"
   ]
  },
  {
   "cell_type": "code",
   "execution_count": null,
   "metadata": {
    "collapsed": false,
    "scrolled": true
   },
   "outputs": [],
   "source": []
  },
  {
   "cell_type": "code",
   "execution_count": null,
   "metadata": {
    "collapsed": false,
    "scrolled": true
   },
   "outputs": [],
   "source": [
    "current_index = 0\n",
    "for i in range(20):\n",
    "    print current_index\n",
    "    current_index += len(readings.num_accel_z[i])\n",
    "    f, Pxx_den = signal.periodogram(readings.num_accel_x[i])\n",
    "    plt.semilogy(f, Pxx_den)\n",
    "    plt.xlabel('frequency [Hz]')\n",
    "    plt.ylabel('PSD [V**2/Hz]')\n",
    "fig = plt.gcf()\n",
    "fig.set_size_inches(18.5, 10.5)\n",
    "config.set_size_inches = (15, 10)\n",
    "plt.show()"
   ]
  },
  {
   "cell_type": "code",
   "execution_count": null,
   "metadata": {
    "collapsed": false,
    "scrolled": true
   },
   "outputs": [],
   "source": [
    "ride_1_accels.plot(alpha=0.6)\n",
    "# ride_1_accels.iloc[400:1000, :].plot(alpha=0.6)\n",
    "fig = plt.gcf()\n",
    "fig.set_size_inches(18.5, 10.5)\n",
    "config.set_size_inches = (15, 10)\n",
    "plt.show()"
   ]
  },
  {
   "cell_type": "code",
   "execution_count": null,
   "metadata": {
    "collapsed": false,
    "scrolled": true
   },
   "outputs": [],
   "source": []
  },
  {
   "cell_type": "code",
   "execution_count": null,
   "metadata": {
    "collapsed": false,
    "scrolled": true
   },
   "outputs": [],
   "source": [
    "readings.ix[readings.ride_id == 1.0,['num_accel_x']].plot()"
   ]
  },
  {
   "cell_type": "code",
   "execution_count": null,
   "metadata": {
    "collapsed": true,
    "scrolled": true
   },
   "outputs": [],
   "source": [
    "subset_readings.index = readings['id']"
   ]
  },
  {
   "cell_type": "code",
   "execution_count": null,
   "metadata": {
    "collapsed": true,
    "scrolled": true
   },
   "outputs": [],
   "source": [
    "small_grouped_readings = subset_readings.iloc[:5, :].groupby('ride_id')"
   ]
  },
  {
   "cell_type": "code",
   "execution_count": null,
   "metadata": {
    "collapsed": true,
    "scrolled": true
   },
   "outputs": [],
   "source": [
    "test_df = subset_readings.num_accel_x.iloc[:5]"
   ]
  },
  {
   "cell_type": "code",
   "execution_count": null,
   "metadata": {
    "collapsed": false,
    "scrolled": true
   },
   "outputs": [],
   "source": [
    "test_df"
   ]
  },
  {
   "cell_type": "code",
   "execution_count": null,
   "metadata": {
    "collapsed": false,
    "scrolled": true
   },
   "outputs": [],
   "source": [
    "def append_col(col):\n",
    "    return np.concatenate(list(col), axis=1)\n",
    "def cols_to_long_array(df):\n",
    "#     append_col = lambda col: np.concatenate(col, axis=1)\n",
    "    return df.apply(append_col, axis=0, reduce=True)\n",
    "\n",
    "small_grouped_readings.aggregate(np.concatenate, axis=1)"
   ]
  },
  {
   "cell_type": "code",
   "execution_count": null,
   "metadata": {
    "collapsed": false,
    "scrolled": true
   },
   "outputs": [],
   "source": [
    "pd.DataFrame.apply"
   ]
  },
  {
   "cell_type": "code",
   "execution_count": null,
   "metadata": {
    "collapsed": true,
    "scrolled": true
   },
   "outputs": [],
   "source": []
  },
  {
   "cell_type": "code",
   "execution_count": null,
   "metadata": {
    "collapsed": true,
    "scrolled": true
   },
   "outputs": [],
   "source": []
  },
  {
   "cell_type": "code",
   "execution_count": null,
   "metadata": {
    "collapsed": false,
    "scrolled": true
   },
   "outputs": [],
   "source": [
    "grouped_readings = subset_readings.groupby(['ride_id'])"
   ]
  },
  {
   "cell_type": "code",
   "execution_count": null,
   "metadata": {
    "collapsed": false,
    "scrolled": true
   },
   "outputs": [],
   "source": [
    "np.append(np.array([0, 1, 5]), np.array([6, 9, 12]))"
   ]
  },
  {
   "cell_type": "code",
   "execution_count": null,
   "metadata": {
    "collapsed": false,
    "scrolled": true
   },
   "outputs": [],
   "source": [
    "# np.append(subset_readings.num_accel_x.iloc[0], subset_readings.num_accel_x.iloc[1])"
   ]
  },
  {
   "cell_type": "code",
   "execution_count": null,
   "metadata": {
    "collapsed": false,
    "scrolled": true
   },
   "outputs": [],
   "source": []
  },
  {
   "cell_type": "code",
   "execution_count": null,
   "metadata": {
    "collapsed": false,
    "scrolled": true
   },
   "outputs": [],
   "source": [
    "small_grouped_readings.aggregate(np.append)\n",
    "# small_grouped_readings.agg({'num_accel_x': np.append})"
   ]
  },
  {
   "cell_type": "code",
   "execution_count": null,
   "metadata": {
    "collapsed": false,
    "scrolled": true
   },
   "outputs": [],
   "source": [
    "test_array = readings.num_accel_x[0]"
   ]
  },
  {
   "cell_type": "code",
   "execution_count": null,
   "metadata": {
    "collapsed": false,
    "scrolled": true
   },
   "outputs": [],
   "source": [
    "readings.loc[readings.ride_id == 1, :].plot(x='acceleration_x', y='acceleration_y', kind='scatter')\n",
    "plt.show()"
   ]
  },
  {
   "cell_type": "code",
   "execution_count": null,
   "metadata": {
    "collapsed": true,
    "scrolled": true
   },
   "outputs": [],
   "source": [
    "readings['total_readings'] = readings.acceleration_x.apply(lambda x: x.count('\\n'))\n",
    "# total_readings = pd.DataFrame({'total_readings':\n",
    "#                                [readings.acceleration_x[i].count('\\n') for i in range(readings.shape[0])]})"
   ]
  },
  {
   "cell_type": "code",
   "execution_count": null,
   "metadata": {
    "collapsed": false,
    "scrolled": true
   },
   "outputs": [],
   "source": [
    "plt.hist(total_readings['total_readings'], bins=100)\n",
    "plt.show()"
   ]
  },
  {
   "cell_type": "code",
   "execution_count": null,
   "metadata": {
    "collapsed": false,
    "scrolled": true
   },
   "outputs": [],
   "source": []
  }
 ],
 "metadata": {
  "kernelspec": {
   "display_name": "Python 2",
   "language": "python",
   "name": "python2"
  },
  "language_info": {
   "codemirror_mode": {
    "name": "ipython",
    "version": 2
   },
   "file_extension": ".py",
   "mimetype": "text/x-python",
   "name": "python",
   "nbconvert_exporter": "python",
   "pygments_lexer": "ipython2",
   "version": "2.7.10"
  }
 },
 "nbformat": 4,
 "nbformat_minor": 0
}

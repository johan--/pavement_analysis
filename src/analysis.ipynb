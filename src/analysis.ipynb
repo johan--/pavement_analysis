{
 "cells": [
  {
   "cell_type": "code",
   "execution_count": null,
   "metadata": {
    "collapsed": false,
    "scrolled": false
   },
   "outputs": [],
   "source": [
    "import functools\n",
    "import geopy\n",
    "import matplotlib.pyplot as plt\n",
    "import numpy as np\n",
    "import pandas as pd\n",
    "import pyproj\n",
    "import requests\n",
    "import scipy as sp\n",
    "import rtree\n",
    "import seaborn as sb\n",
    "from scipy import signal\n",
    "# import shapely\n",
    "import shapely.geometry\n",
    "%pylab inline\n",
    "\n",
    "import data_munging"
   ]
  },
  {
   "cell_type": "code",
   "execution_count": null,
   "metadata": {
    "collapsed": false,
    "scrolled": true
   },
   "outputs": [],
   "source": [
    "reload(data_munging)"
   ]
  },
  {
   "cell_type": "code",
   "execution_count": null,
   "metadata": {
    "collapsed": false,
    "scrolled": true
   },
   "outputs": [],
   "source": [
    "rides, readings = data_munging.read_raw_data()\n",
    "readings = data_munging.clean_readings(readings)\n",
    "readings = data_munging.add_proj_to_readings(readings, data_munging.NAD83)"
   ]
  },
  {
   "cell_type": "code",
   "execution_count": null,
   "metadata": {
    "collapsed": false,
    "scrolled": true
   },
   "outputs": [],
   "source": [
    "n, p = readings.shape\n",
    "print rides.columns\n",
    "print readings.columns"
   ]
  },
  {
   "cell_type": "code",
   "execution_count": null,
   "metadata": {
    "collapsed": false,
    "scrolled": true
   },
   "outputs": [],
   "source": [
    "readings_idx = data_munging.insert_readings_rtree(readings)"
   ]
  },
  {
   "cell_type": "code",
   "execution_count": null,
   "metadata": {
    "collapsed": false,
    "scrolled": false
   },
   "outputs": [],
   "source": [
    "some_indices = np.random.choice(readings.index, 400)"
   ]
  },
  {
   "cell_type": "code",
   "execution_count": null,
   "metadata": {
    "collapsed": false
   },
   "outputs": [],
   "source": [
    "for i in readings_idx.intersection((358016, 580867, 358016, 580871)):\n",
    "    print i"
   ]
  },
  {
   "cell_type": "code",
   "execution_count": null,
   "metadata": {
    "collapsed": false
   },
   "outputs": [],
   "source": [
    "readings['gps_dist'].plot(kind='hist')\n",
    "fig = plt.gcf()\n",
    "fig.set_size_inches(18.5, 10.5)\n",
    "plt.show()\n",
    "print sp.stats.describe(readings['gps_dist'])\n",
    "print np.percentile(readings['gps_dist'], 5)"
   ]
  },
  {
   "cell_type": "code",
   "execution_count": null,
   "metadata": {
    "collapsed": false
   },
   "outputs": [],
   "source": [
    "readings_idx = data_munging.insert_readings_rtree(readings)"
   ]
  },
  {
   "cell_type": "code",
   "execution_count": null,
   "metadata": {
    "collapsed": false
   },
   "outputs": [],
   "source": [
    "intersecting_segments = dict()\n",
    "for i in readings.index:\n",
    "    reading_of_interest = data_munging.expand_bb(readings_idx.get_bounds(i), 0.2)\n",
    "    ins_readings = list(readings_idx.intersection())\n",
    "    if len(ins_readings) > 0:\n",
    "        intersecting_segments[i] = ins_readings    "
   ]
  },
  {
   "cell_type": "code",
   "execution_count": null,
   "metadata": {
    "collapsed": false
   },
   "outputs": [],
   "source": [
    "print readings_idx.get_bounds(0)\n",
    "print data_munging.expand_bb(readings_idx.get_bounds(0), 0.2)"
   ]
  },
  {
   "cell_type": "code",
   "execution_count": null,
   "metadata": {
    "collapsed": false
   },
   "outputs": [],
   "source": [
    "shapely.geometry.LineString([(0, 0), (1, 1)])"
   ]
  },
  {
   "cell_type": "code",
   "execution_count": null,
   "metadata": {
    "collapsed": true
   },
   "outputs": [],
   "source": [
    "#we will take the intersection of these two mitred segments and then set a threshold for overlap\n",
    "# similar to Jaccard similarity\n",
    "#we can also take the angle between these two segments and use that to determine if \n",
    "#we should consider them the same (different angles)"
   ]
  },
  {
   "cell_type": "code",
   "execution_count": null,
   "metadata": {
    "collapsed": false
   },
   "outputs": [],
   "source": [
    "help(shapely.geometry.LineString)\n",
    "shapely.geometry.LineString()"
   ]
  },
  {
   "cell_type": "code",
   "execution_count": null,
   "metadata": {
    "collapsed": false
   },
   "outputs": [],
   "source": [
    "for i in readings_idx.intersection(readings_idx.get_bounds(0)):\n",
    "    print \n",
    "# print len(list(readings_idx.intersection(readings_idx.get_bounds(0))))"
   ]
  },
  {
   "cell_type": "code",
   "execution_count": null,
   "metadata": {
    "collapsed": false
   },
   "outputs": [],
   "source": [
    "help(readings_idx.intersection)"
   ]
  },
  {
   "cell_type": "code",
   "execution_count": null,
   "metadata": {
    "collapsed": false
   },
   "outputs": [],
   "source": [
    "data_munging."
   ]
  },
  {
   "cell_type": "code",
   "execution_count": null,
   "metadata": {
    "collapsed": false
   },
   "outputs": [],
   "source": [
    "# Locations plotted on map with coloring based on std\n",
    "plt.plot()\n",
    "chi_readings.plot(x='start_x', y='start_y', kind='scatter')\n",
    "plt.show()"
   ]
  },
  {
   "cell_type": "code",
   "execution_count": null,
   "metadata": {
    "collapsed": false,
    "scrolled": false
   },
   "outputs": [],
   "source": [
    "help(pd.DataFrame.plot)"
   ]
  },
  {
   "cell_type": "code",
   "execution_count": null,
   "metadata": {
    "collapsed": false
   },
   "outputs": [],
   "source": [
    "chi_readings = data_munging.filter_readings_to_chicago(readings)"
   ]
  },
  {
   "cell_type": "code",
   "execution_count": null,
   "metadata": {
    "collapsed": false
   },
   "outputs": [],
   "source": [
    "nyc_readings = data_munging.filter_readings_to_nyc(readings)"
   ]
  },
  {
   "cell_type": "code",
   "execution_count": null,
   "metadata": {
    "collapsed": false
   },
   "outputs": [],
   "source": [
    "print chi_readings.shape\n",
    "print nyc_readings.shape\n",
    "print readings.shape"
   ]
  },
  {
   "cell_type": "code",
   "execution_count": null,
   "metadata": {
    "collapsed": false
   },
   "outputs": [],
   "source": [
    "ax = sb.regplot(x=\"gps_speed\", y=\"std_z\", data=readings, scatter_kws={'alpha':0.3})\n",
    "fig = plt.gcf()\n",
    "fig.set_size_inches(18.5, 10.5)\n",
    "plt.show()\n",
    "# ax = sb.regplot(x=\"total_bill\", y=\"tip\", data=tips, scatter_kws={'alpha':0.3})"
   ]
  },
  {
   "cell_type": "code",
   "execution_count": null,
   "metadata": {
    "collapsed": false
   },
   "outputs": [],
   "source": [
    "ax = sb.regplot(x=\"gps_speed\", y=\"std_z\", data=readings, scatter_kws={'alpha':0.05})\n",
    "fig = plt.gcf()\n",
    "fig.set_size_inches(18.5, 10.5)\n",
    "pylab.xlim([0, 40])\n",
    "plt.show()\n",
    "# ax = sb.regplot(x=\"total_bill\", y=\"tip\", data=tips, scatter_kws={'alpha':0.3})"
   ]
  },
  {
   "cell_type": "code",
   "execution_count": null,
   "metadata": {
    "collapsed": false
   },
   "outputs": [],
   "source": [
    "readings['gps_speed'].plot(kind='hist')\n",
    "plt.show()"
   ]
  },
  {
   "cell_type": "code",
   "execution_count": null,
   "metadata": {
    "collapsed": false
   },
   "outputs": [],
   "source": [
    "for axis in ['x', 'y', 'z']:\n",
    "    readings['std_' + axis].plot(kind='hist')\n",
    "    fig = plt.gcf()\n",
    "    fig.set_size_inches(10, 4)\n",
    "    plt.show()"
   ]
  },
  {
   "cell_type": "code",
   "execution_count": null,
   "metadata": {
    "collapsed": false
   },
   "outputs": [],
   "source": [
    "sample_size = 100\n",
    "indices = np.random.choice(n, sample_size)\n",
    "for axis in ['x', 'y', 'z']:\n",
    "    for i in indices:\n",
    "        sb.tsplot(readings['num_accel_' + axis][i][0:100], alpha=0.05)\n",
    "    fig = plt.gcf()\n",
    "    fig.set_size_inches(18.5, 10.5)\n",
    "    plt.xlabel('Accelerometer Values')\n",
    "    plt.ylabel('Force (Gravities)')\n",
    "    plt.title('Random sample of ' + str(sample_size) + ' ' + axis + ' Accelerometer Time Series')\n",
    "    plt.show()"
   ]
  },
  {
   "cell_type": "code",
   "execution_count": null,
   "metadata": {
    "collapsed": false
   },
   "outputs": [],
   "source": [
    "sample_size = 1000\n",
    "indices = np.random.choice(n, sample_size)\n",
    "for axis in ['x', 'y', 'z']:\n",
    "    for i in indices:\n",
    "        f, Pxx_den = signal.periodogram(readings['num_accel_' + axis][i][0:100])\n",
    "        plt.plot(f, Pxx_den)\n",
    "        plt.title('Power Spectrum for ' + axis + ' axis')\n",
    "        plt.xlabel('frequency [Hz]')\n",
    "        plt.ylabel('Power Spectrum Density')\n",
    "    fig = plt.gcf()\n",
    "    fig.set_size_inches(18.5, 10.5)\n",
    "    plt.show()"
   ]
  }
 ],
 "metadata": {
  "kernelspec": {
   "display_name": "Python 2",
   "language": "python",
   "name": "python2"
  },
  "language_info": {
   "codemirror_mode": {
    "name": "ipython",
    "version": 2
   },
   "file_extension": ".py",
   "mimetype": "text/x-python",
   "name": "python",
   "nbconvert_exporter": "python",
   "pygments_lexer": "ipython2",
   "version": "2.7.11"
  }
 },
 "nbformat": 4,
 "nbformat_minor": 0
}

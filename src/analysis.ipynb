{
 "cells": [
  {
   "cell_type": "code",
   "execution_count": null,
   "metadata": {
    "collapsed": false,
    "scrolled": false
   },
   "outputs": [],
   "source": [
    "import functools\n",
    "import geopy\n",
    "import geopandas\n",
    "import matplotlib.pyplot as plt\n",
    "import numpy as np\n",
    "import pandas as pd\n",
    "import pyproj\n",
    "import requests\n",
    "import seaborn as sb\n",
    "from scipy import signal\n",
    "%pylab inline\n",
    "\n",
    "import data_munging"
   ]
  },
  {
   "cell_type": "code",
   "execution_count": null,
   "metadata": {
    "collapsed": false
   },
   "outputs": [],
   "source": [
    "reload(data_munging)"
   ]
  },
  {
   "cell_type": "code",
   "execution_count": null,
   "metadata": {
    "collapsed": false,
    "scrolled": true
   },
   "outputs": [],
   "source": [
    "rides, readings = data_munging.read_raw_data()\n",
    "readings = data_munging.clean_readings(readings)\n",
    "readings = data_munging.add_proj_to_readings(readings, data_munging.NAD83)"
   ]
  },
  {
   "cell_type": "code",
   "execution_count": null,
   "metadata": {
    "collapsed": false,
    "scrolled": true
   },
   "outputs": [],
   "source": [
    "n, p = readings.shape\n",
    "print rides.columns\n",
    "print readings.columns"
   ]
  },
  {
   "cell_type": "code",
   "execution_count": null,
   "metadata": {
    "collapsed": false
   },
   "outputs": [],
   "source": [
    "ax = sb.regplot(x=\"gps_speed\", y=\"std_z\", data=readings, scatter_kws={'alpha':0.3})\n",
    "fig = plt.gcf()\n",
    "fig.set_size_inches(18.5, 10.5)\n",
    "plt.show()\n",
    "# ax = sb.regplot(x=\"total_bill\", y=\"tip\", data=tips, scatter_kws={'alpha':0.3})"
   ]
  },
  {
   "cell_type": "code",
   "execution_count": null,
   "metadata": {
    "collapsed": false
   },
   "outputs": [],
   "source": [
    "ax = sb.regplot(x=\"gps_speed\", y=\"std_z\", data=readings, scatter_kws={'alpha':0.05})\n",
    "fig = plt.gcf()\n",
    "fig.set_size_inches(18.5, 10.5)\n",
    "pylab.xlim([0, 40])\n",
    "plt.show()\n",
    "# ax = sb.regplot(x=\"total_bill\", y=\"tip\", data=tips, scatter_kws={'alpha':0.3})"
   ]
  },
  {
   "cell_type": "code",
   "execution_count": null,
   "metadata": {
    "collapsed": false
   },
   "outputs": [],
   "source": [
    "readings['gps_speed'].plot(kind='hist')\n",
    "plt.show()"
   ]
  },
  {
   "cell_type": "code",
   "execution_count": null,
   "metadata": {
    "collapsed": false
   },
   "outputs": [],
   "source": [
    "for axis in ['x', 'y', 'z']:\n",
    "    readings['std_' + axis].plot(kind='hist')\n",
    "    fig = plt.gcf()\n",
    "    fig.set_size_inches(10, 4)\n",
    "    plt.show()"
   ]
  },
  {
   "cell_type": "code",
   "execution_count": null,
   "metadata": {
    "collapsed": false
   },
   "outputs": [],
   "source": [
    "sample_size = 100\n",
    "indices = np.random.choice(n, sample_size)\n",
    "for axis in ['x', 'y', 'z']:\n",
    "    for i in indices:\n",
    "        sb.tsplot(readings['num_accel_' + axis][i][0:100], alpha=0.05)\n",
    "    fig = plt.gcf()\n",
    "    fig.set_size_inches(18.5, 10.5)\n",
    "    plt.xlabel('Accelerometer Values')\n",
    "    plt.ylabel('Force (Gravities)')\n",
    "    plt.title('Random sample of ' + str(sample_size) + ' ' + axis + ' Accelerometer Time Series')\n",
    "    plt.show()"
   ]
  },
  {
   "cell_type": "code",
   "execution_count": null,
   "metadata": {
    "collapsed": false
   },
   "outputs": [],
   "source": [
    "sample_size = 1000\n",
    "indices = np.random.choice(n, sample_size)\n",
    "for axis in ['x', 'y', 'z']:\n",
    "    for i in indices:\n",
    "        f, Pxx_den = signal.periodogram(readings['num_accel_' + axis][i][0:100])\n",
    "        plt.plot(f, Pxx_den)\n",
    "        plt.title('Power Spectrum for ' + axis + ' axis')\n",
    "        plt.xlabel('frequency [Hz]')\n",
    "        plt.ylabel('Power Spectrum Density')\n",
    "    fig = plt.gcf()\n",
    "    fig.set_size_inches(18.5, 10.5)\n",
    "    plt.show()"
   ]
  }
 ],
 "metadata": {
  "kernelspec": {
   "display_name": "Python 2",
   "language": "python",
   "name": "python2"
  },
  "language_info": {
   "codemirror_mode": {
    "name": "ipython",
    "version": 2
   },
   "file_extension": ".py",
   "mimetype": "text/x-python",
   "name": "python",
   "nbconvert_exporter": "python",
   "pygments_lexer": "ipython2",
   "version": "2.7.10"
  }
 },
 "nbformat": 4,
 "nbformat_minor": 0
}

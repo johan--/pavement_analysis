{
 "cells": [
  {
   "cell_type": "code",
   "execution_count": null,
   "metadata": {
    "collapsed": false,
    "scrolled": true
   },
   "outputs": [],
   "source": [
    "import functools\n",
    "import geopy\n",
    "import geopandas\n",
    "import matplotlib.pyplot as plt\n",
    "import numpy as np\n",
    "# import pandas.tools.rplot as rplot\n",
    "import pandas as pd\n",
    "import pyproj\n",
    "import requests\n",
    "from scipy import signal\n",
    "%pylab inline\n",
    "\n",
    "import data_munging"
   ]
  },
  {
   "cell_type": "code",
   "execution_count": null,
   "metadata": {
    "collapsed": false,
    "scrolled": true
   },
   "outputs": [],
   "source": [
    "rides, readings = data_munging.read_raw_data()\n",
    "readings = data_munging.clean_readings(readings)\n",
    "readings = data_munging.add_proj_to_readings(readings, data_munging.NAD83)"
   ]
  },
  {
   "cell_type": "code",
   "execution_count": null,
   "metadata": {
    "collapsed": false,
    "scrolled": true
   },
   "outputs": [],
   "source": [
    "current_index = 0\n",
    "for i in range(20):\n",
    "    print current_index\n",
    "    current_index += len(readings.num_accel_z[i])\n",
    "    f, Pxx_den = signal.periodogram(readings.num_accel_x[i])\n",
    "    plt.semilogy(f, Pxx_den)\n",
    "    plt.xlabel('frequency [Hz]')\n",
    "    plt.ylabel('PSD [V**2/Hz]')\n",
    "fig = plt.gcf()\n",
    "fig.set_size_inches(18.5, 10.5)\n",
    "config.set_size_inches = (15, 10)\n",
    "plt.show()"
   ]
  },
  {
   "cell_type": "code",
   "execution_count": null,
   "metadata": {
    "collapsed": false,
    "scrolled": true
   },
   "outputs": [],
   "source": [
    "ride_1_accels.plot(alpha=0.6)\n",
    "# ride_1_accels.iloc[400:1000, :].plot(alpha=0.6)\n",
    "fig = plt.gcf()\n",
    "fig.set_size_inches(18.5, 10.5)\n",
    "config.set_size_inches = (15, 10)\n",
    "plt.show()"
   ]
  },
  {
   "cell_type": "code",
   "execution_count": null,
   "metadata": {
    "collapsed": false,
    "scrolled": true
   },
   "outputs": [],
   "source": [
    "def calc_dist(lons1, lats1, lons2, lats2):\n",
    "\t\"\"\"I have no idea if Clark ='s ellipsoid is good for our purposes or not.\"\"\"\n",
    "\tclark_geod = pyproj.Geod(ellps='clrk66')\n",
    "\taz12, az21, dist = clark_geod.inv(lons1, lats1, lons2, lats2)\n",
    "\treturn dist\n",
    "\n",
    "def calc_dist(*args):\n",
    "\t\"\"\"I have no idea if Clark ='s ellipsoid is good for our purposes or not.\"\"\"\n",
    "\targs = [list(arg) for arg in args]\n",
    "\tclark_geod = pyproj.Geod(ellps='clrk66')\n",
    "\taz12, az21, dist = clark_geod.inv(*args)\n",
    "\treturn dist"
   ]
  },
  {
   "cell_type": "code",
   "execution_count": null,
   "metadata": {
    "collapsed": false
   },
   "outputs": [],
   "source": [
    "# dist = calc_dist(list(readings.start_lon), list(readings.start_lat), list(readings.end_lon), list(readings.end_lat))\n",
    "dist = calc_dist(readings.start_lon, readings.start_lat, readings.end_lon, readings.end_lat)"
   ]
  },
  {
   "cell_type": "code",
   "execution_count": null,
   "metadata": {
    "collapsed": false
   },
   "outputs": [],
   "source": [
    "print dist\n",
    "print dist2\n",
    "print dist3"
   ]
  },
  {
   "cell_type": "code",
   "execution_count": null,
   "metadata": {
    "collapsed": false,
    "scrolled": true
   },
   "outputs": [],
   "source": [
    "readings.ix[readings.ride_id == 1.0,['num_accel_x']].plot()"
   ]
  },
  {
   "cell_type": "code",
   "execution_count": null,
   "metadata": {
    "collapsed": true,
    "scrolled": true
   },
   "outputs": [],
   "source": [
    "subset_readings.index = readings['id']"
   ]
  },
  {
   "cell_type": "code",
   "execution_count": null,
   "metadata": {
    "collapsed": true,
    "scrolled": true
   },
   "outputs": [],
   "source": [
    "small_grouped_readings = subset_readings.iloc[:5, :].groupby('ride_id')"
   ]
  },
  {
   "cell_type": "code",
   "execution_count": null,
   "metadata": {
    "collapsed": true,
    "scrolled": true
   },
   "outputs": [],
   "source": [
    "test_df = subset_readings.num_accel_x.iloc[:5]"
   ]
  },
  {
   "cell_type": "code",
   "execution_count": null,
   "metadata": {
    "collapsed": false,
    "scrolled": true
   },
   "outputs": [],
   "source": [
    "test_df"
   ]
  },
  {
   "cell_type": "code",
   "execution_count": null,
   "metadata": {
    "collapsed": false,
    "scrolled": true
   },
   "outputs": [],
   "source": [
    "def append_col(col):\n",
    "    return np.concatenate(list(col), axis=1)\n",
    "def cols_to_long_array(df):\n",
    "#     append_col = lambda col: np.concatenate(col, axis=1)\n",
    "    return df.apply(append_col, axis=0, reduce=True)\n",
    "\n",
    "small_grouped_readings.aggregate(np.concatenate, axis=1)"
   ]
  },
  {
   "cell_type": "code",
   "execution_count": null,
   "metadata": {
    "collapsed": false,
    "scrolled": true
   },
   "outputs": [],
   "source": [
    "grouped_readings = subset_readings.groupby(['ride_id'])"
   ]
  },
  {
   "cell_type": "code",
   "execution_count": null,
   "metadata": {
    "collapsed": false,
    "scrolled": true
   },
   "outputs": [],
   "source": [
    "np.append(np.array([0, 1, 5]), np.array([6, 9, 12]))"
   ]
  },
  {
   "cell_type": "code",
   "execution_count": null,
   "metadata": {
    "collapsed": false,
    "scrolled": true
   },
   "outputs": [],
   "source": [
    "# np.append(subset_readings.num_accel_x.iloc[0], subset_readings.num_accel_x.iloc[1])"
   ]
  },
  {
   "cell_type": "code",
   "execution_count": null,
   "metadata": {
    "collapsed": false,
    "scrolled": true
   },
   "outputs": [],
   "source": []
  },
  {
   "cell_type": "code",
   "execution_count": null,
   "metadata": {
    "collapsed": false,
    "scrolled": true
   },
   "outputs": [],
   "source": [
    "small_grouped_readings.aggregate(np.append)\n",
    "# small_grouped_readings.agg({'num_accel_x': np.append})"
   ]
  },
  {
   "cell_type": "code",
   "execution_count": null,
   "metadata": {
    "collapsed": false,
    "scrolled": true
   },
   "outputs": [],
   "source": [
    "test_array = readings.num_accel_x[0]"
   ]
  },
  {
   "cell_type": "code",
   "execution_count": null,
   "metadata": {
    "collapsed": false,
    "scrolled": true
   },
   "outputs": [],
   "source": [
    "readings.loc[readings.ride_id == 1, :].plot(x='acceleration_x', y='acceleration_y', kind='scatter')\n",
    "plt.show()"
   ]
  },
  {
   "cell_type": "code",
   "execution_count": null,
   "metadata": {
    "collapsed": true,
    "scrolled": true
   },
   "outputs": [],
   "source": [
    "readings['total_readings'] = readings.acceleration_x.apply(lambda x: x.count('\\n'))\n",
    "# total_readings = pd.DataFrame({'total_readings':\n",
    "#                                [readings.acceleration_x[i].count('\\n') for i in range(readings.shape[0])]})"
   ]
  },
  {
   "cell_type": "code",
   "execution_count": null,
   "metadata": {
    "collapsed": false,
    "scrolled": true
   },
   "outputs": [],
   "source": [
    "plt.hist(total_readings['total_readings'], bins=100)\n",
    "plt.show()"
   ]
  },
  {
   "cell_type": "code",
   "execution_count": null,
   "metadata": {
    "collapsed": false,
    "scrolled": true
   },
   "outputs": [],
   "source": []
  }
 ],
 "metadata": {
  "kernelspec": {
   "display_name": "Python 2",
   "language": "python",
   "name": "python2"
  },
  "language_info": {
   "codemirror_mode": {
    "name": "ipython",
    "version": 2
   },
   "file_extension": ".py",
   "mimetype": "text/x-python",
   "name": "python",
   "nbconvert_exporter": "python",
   "pygments_lexer": "ipython2",
   "version": "2.7.10"
  }
 },
 "nbformat": 4,
 "nbformat_minor": 0
}

{
 "cells": [
  {
   "cell_type": "code",
   "execution_count": null,
   "metadata": {
    "collapsed": false,
    "scrolled": false
   },
   "outputs": [],
   "source": [
    "import functools\n",
    "import geopy\n",
    "from imposm.parser import OSMParser\n",
    "from matplotlib import collections as mc\n",
    "import matplotlib.pyplot as plt\n",
    "import numpy as np\n",
    "import pandas as pd\n",
    "import pyproj\n",
    "import requests\n",
    "import scipy as sp\n",
    "import rtree\n",
    "import seaborn as sb\n",
    "from scipy import signal\n",
    "# import shapely\n",
    "import shapely.geometry\n",
    "%pylab inline\n",
    "\n",
    "import data_munging"
   ]
  },
  {
   "cell_type": "code",
   "execution_count": null,
   "metadata": {
    "collapsed": false
   },
   "outputs": [],
   "source": [
    "# simple class that handles the parsed OSM data.\n",
    "class HighwayCounter(object):\n",
    "    highways = 0\n",
    "\n",
    "    def ways(self, ways):\n",
    "        # callback method for ways\n",
    "        for osmid, tags, refs in ways:\n",
    "            if 'highway' in tags:\n",
    "              self.highways += 1\n",
    "\n",
    "class SegmentFinder(object):\n",
    "    segments = []\n",
    "    \n",
    "    def ways(self, ways):\n",
    "        # callback method for ways\n",
    "        for osmid, tags, refs in ways:\n",
    "            prev_ref = None\n",
    "            for ref in refs:\n",
    "                if prev_ref is not None:\n",
    "                    self.segments.append((prev_ref, ref))\n",
    "                prev_ref = ref\n",
    "\n",
    "class NodeCoords(object):\n",
    "    node_coords = dict()\n",
    "\n",
    "    def nodes(self, nodes):\n",
    "        # callback method for nodes\n",
    "        for osmid, tags, coords in nodes:\n",
    "            self.node_coords[osmid] = coords\n",
    "\n",
    "# instantiate counter and parser and start parsing\n",
    "all_segments = SegmentFinder()\n",
    "some_coords = NodeCoords()\n",
    "p = OSMParser(concurrency=4,\n",
    "              nodes_callback=some_coords.nodes,\n",
    "              ways_callback=all_segments.ways)\n",
    "p.parse('../../osrm/osm_data/chicago_illinois.osm.pbf')\n",
    "# done"
   ]
  },
  {
   "cell_type": "code",
   "execution_count": null,
   "metadata": {
    "collapsed": false
   },
   "outputs": [],
   "source": [
    "segments_idx = rtree.index.Index()\n",
    "total_failures = 0\n",
    "for segment in SegmentFinder.segments:\n",
    "    try:\n",
    "        lat0, lon0 = some_coords.node_coords[segment[0]]\n",
    "        lat1, lon1 = some_coords.node_coords[segment[1]]\n",
    "        coord0 = data_munging.NAD83(lon0, lat0)\n",
    "        coord1 = data_munging.NAD83(lon1, lat1)\n",
    "        segments_idx.insert(id=segment, coordinates=data_munging.coords_to_bb(coord0, coord1),\n",
    "                           obj=(coord0, coord1))\n",
    "    except:\n",
    "        total_failures += 1\n",
    "    break"
   ]
  },
  {
   "cell_type": "code",
   "execution_count": null,
   "metadata": {
    "collapsed": false
   },
   "outputs": [],
   "source": [
    "print total_failures"
   ]
  },
  {
   "cell_type": "code",
   "execution_count": null,
   "metadata": {
    "collapsed": true
   },
   "outputs": [],
   "source": [
    "rides, readings = data_munging.read_raw_data()\n",
    "readings = data_munging.clean_readings(readings)\n",
    "readings = data_munging.add_proj_to_readings(readings, data_munging.NAD83)"
   ]
  },
  {
   "cell_type": "code",
   "execution_count": null,
   "metadata": {
    "collapsed": false
   },
   "outputs": [],
   "source": [
    "start_coords = readings[['start_lat', 'start_lon']]\n",
    "end_coords = readings[['end_lat', 'end_lon']]"
   ]
  },
  {
   "cell_type": "code",
   "execution_count": null,
   "metadata": {
    "collapsed": false
   },
   "outputs": [],
   "source": [
    "bb_areas = list()\n",
    "bb_width = list()\n",
    "bb_height = list()\n",
    "bb_max = list()\n",
    "for i, reading in readings.iterrows():\n",
    "    the_bb = data_munging.reading_to_bb(reading)\n",
    "    bb_area = data_munging.area_of_bb(the_bb)\n",
    "    bb_areas.append(bb_area)\n",
    "    bb_width.append(np.abs(reading.start_x - reading.end_x))\n",
    "    bb_height.append(np.abs(reading.start_y- reading.end_y))    \n",
    "    bb_max.append(np.max([bb_width[-1], bb_height[-1]]))\n",
    "#     intx_segments = segments_idx.intersection()\n",
    "#     while len(intx_segments) == 0:        "
   ]
  },
  {
   "cell_type": "code",
   "execution_count": null,
   "metadata": {
    "collapsed": false
   },
   "outputs": [],
   "source": [
    "plt.hist(bb_areas)\n",
    "plt.plot()"
   ]
  },
  {
   "cell_type": "code",
   "execution_count": null,
   "metadata": {
    "collapsed": false
   },
   "outputs": [],
   "source": [
    "plt.scatter(bb_width, bb_height)\n",
    "plt.show()"
   ]
  },
  {
   "cell_type": "code",
   "execution_count": null,
   "metadata": {
    "collapsed": false
   },
   "outputs": [],
   "source": [
    "plt.hist(bb_max)\n",
    "plt.show()"
   ]
  },
  {
   "cell_type": "code",
   "execution_count": null,
   "metadata": {
    "collapsed": false
   },
   "outputs": [],
   "source": [
    "n,p = readings.shape"
   ]
  },
  {
   "cell_type": "code",
   "execution_count": null,
   "metadata": {
    "collapsed": true
   },
   "outputs": [],
   "source": [
    "total_bb = pd.DataFrame(0, index=range(10), columns=[0.1, 0.4])"
   ]
  },
  {
   "cell_type": "code",
   "execution_count": null,
   "metadata": {
    "collapsed": false
   },
   "outputs": [],
   "source": [
    "total_bb = pd.DataFrame(0, index=range(n), columns=[0.5 ** x for x in range(10)])"
   ]
  },
  {
   "cell_type": "code",
   "execution_count": null,
   "metadata": {
    "collapsed": false
   },
   "outputs": [],
   "source": [
    "for i, reading in readings.iterrows():\n",
    "    the_bb = data_munging.reading_to_bb(reading)\n",
    "    expanded_bb = data_munging.expand_bb(the_bb, 3.0)\n",
    "    closest_segment = None\n",
    "    closest_dist = np.inf\n",
    "    for segment in segments_idx.intersection(expanded_bb):\n",
    "        print segment\n",
    "        break\n",
    "#        if shapely.geometry.LineString([(0,0), (1,1)]).distance(shapely.geometry.Point((0.5, 0.4)))"
   ]
  },
  {
   "cell_type": "code",
   "execution_count": null,
   "metadata": {
    "collapsed": false
   },
   "outputs": [],
   "source": [
    "for i in total_bb:\n",
    "    for col in total_bb:\n",
    "        the_bb = data_munging.reading_to_bb(readings.ix[i, :], 1)\n",
    "        expand_bb = data_munging.expand_bb(readings.ix[i, :])\n",
    "        total_bb[i, col] = len(segments_idx.intersection(data_munging.reading_to_bb(readings.ix[i,:])))"
   ]
  },
  {
   "cell_type": "code",
   "execution_count": null,
   "metadata": {
    "collapsed": false
   },
   "outputs": [],
   "source": [
    "print len(all_segments.segments)\n",
    "print len(some_coords.node_coords)"
   ]
  },
  {
   "cell_type": "raw",
   "metadata": {},
   "source": [
    "Here we show a sample of how one might use OSRM to snap our lat-long coordinates to streets. This example uses OSRM running on localhost at port 5000 for Chicago OSM data with a bicycle profile. One can clean data either by snapping lat-longs to the closest street or by putting together multiple readings from a ride and using combined information to get a likely series of streets taken. It takes time information as well, so I'm not sure if it uses information from the lua bicycle profile where it estimates speeds on various roads? \n",
    "\n",
    "Currently, I am unsure how to mark up OSM data with bumpiness information, as we have \n",
    "\n",
    "data that look like this:\n",
    "        <way id=\"23642309\" version=\"25\" timestamp=\"2013-12-26T23:03:24Z\" changeset=\"19653154\" uid=\"28775\" user=\"StellanL\">\n",
    "                <nd ref=\"258965973\"/>\n",
    "                <nd ref=\"258023463\"/>\n",
    "                <nd ref=\"736948618\"/>\n",
    "                <nd ref=\"258023391\"/>\n",
    "                <nd ref=\"736948622\"/>\n",
    "                <nd ref=\"930330659\"/>\n",
    "                <nd ref=\"736861978\"/>\n",
    "                <nd ref=\"930330542\"/>\n",
    "                <nd ref=\"930330544\"/>\n",
    "                <nd ref=\"929808660\"/>\n",
    "                <nd ref=\"736934948\"/>\n",
    "                <nd ref=\"930330644\"/>\n",
    "                <nd ref=\"736871567\"/>\n",
    "                <nd ref=\"619628331\"/>\n",
    "                <nd ref=\"740363293\"/>\n",
    "                <nd ref=\"931468900\"/>\n",
    "                <tag k=\"name\" v=\"North Wabash Avenue\"/>\n",
    "                <tag k=\"highway\" v=\"tertiary\"/>\n",
    "                <tag k=\"loc_ref\" v=\"44 E\"/>\n",
    "        </way>\"\n",
    "\n",
    "Here, the nodes contains the actual lat-lon information. I am not sure what data structures OSRM uses, so I don't know how to appropriately associate our pavement data."
   ]
  },
  {
   "cell_type": "code",
   "execution_count": null,
   "metadata": {
    "collapsed": false
   },
   "outputs": [],
   "source": [
    "rides, readings = data_munging.read_raw_data()\n",
    "readings = data_munging.clean_readings(readings)\n",
    "readings = data_munging.add_proj_to_readings(readings, data_munging.NAD83)"
   ]
  },
  {
   "cell_type": "code",
   "execution_count": null,
   "metadata": {
    "collapsed": false
   },
   "outputs": [],
   "source": [
    "readings.columns"
   ]
  },
  {
   "cell_type": "code",
   "execution_count": null,
   "metadata": {
    "collapsed": false
   },
   "outputs": [],
   "source": [
    "readings.loc[0, ['num_accel_x', 'num_accel_y', 'num_accel_z', 'num_accel_total']]\n"
   ]
  },
  {
   "cell_type": "code",
   "execution_count": null,
   "metadata": {
    "collapsed": false
   },
   "outputs": [],
   "source": [
    "print rides.shape\n",
    "print readings.shape\n",
    "n, p = readings.shape"
   ]
  },
  {
   "cell_type": "code",
   "execution_count": null,
   "metadata": {
    "collapsed": true
   },
   "outputs": [],
   "source": [
    "nearest_request = 'http://127.0.0.1:5000/nearest?loc={0},{1}'\n",
    "map_request = 'http://127.0.0.1:5000/match?loc={0},{1}&t={2}&loc={3},{4}&t={5}'"
   ]
  },
  {
   "cell_type": "code",
   "execution_count": null,
   "metadata": {
    "collapsed": false
   },
   "outputs": [],
   "source": [
    "map_request"
   ]
  },
  {
   "cell_type": "code",
   "execution_count": null,
   "metadata": {
    "collapsed": true
   },
   "outputs": [],
   "source": [
    "for snapped_var in ['snapped_' + var for var in ['start_lat', 'start_lon', 'end_lat', 'end_lon']]:\n",
    "    readings[snapped_var] = 0"
   ]
  },
  {
   "cell_type": "code",
   "execution_count": null,
   "metadata": {
    "collapsed": false
   },
   "outputs": [],
   "source": [
    "osrm_response['matchings'][0]['matched_points']"
   ]
  },
  {
   "cell_type": "code",
   "execution_count": null,
   "metadata": {
    "collapsed": false,
    "scrolled": true
   },
   "outputs": [],
   "source": [
    "total_calls = 0\n",
    "for i, reading in readings.iterrows():\n",
    "    data = tuple(reading[['start_lat', 'start_lon']])+9\n",
    "    print i\n",
    "    print data \n",
    "    osrm_request = nearest_request.format(*data)\n",
    "    osrm_response = requests.get(osrm_request).json()\n",
    "    print osrm_response\n",
    "    total_calls += 1\n",
    "    if total_calls > 100:\n",
    "        break"
   ]
  },
  {
   "cell_type": "code",
   "execution_count": null,
   "metadata": {
    "collapsed": false,
    "scrolled": true
   },
   "outputs": [],
   "source": [
    "total_calls = 0\n",
    "for i, reading in readings.iterrows():\n",
    "    data = tuple(reading[['start_lat', 'start_lon']]) + (0,) + tuple(reading[['end_lat', 'end_lon']]) + (1,)   \n",
    "    print i\n",
    "    print data \n",
    "    osrm_request = map_request.format(*data)\n",
    "    osrm_response = requests.get(osrm_request).json()\n",
    "    print osrm_response\n",
    "    total_calls += 1\n",
    "    if total_calls > 100:\n",
    "        break"
   ]
  },
  {
   "cell_type": "code",
   "execution_count": null,
   "metadata": {
    "collapsed": false
   },
   "outputs": [],
   "source": [
    "for i, reading in readings.iterrows():\n",
    "    data = tuple(reading[['start_lat', 'start_lon']]) + (0,) + tuple(reading[['end_lat', 'end_lon']]) + (1,)   \n",
    "    osrm_request = map_request.format(*data)\n",
    "    osrm_response = requests.get(osrm_request).json()\n",
    "    print osrm_response\n",
    "    readings.loc[i, ['snapped_start_lat', 'snapped_start_lon']] = osrm_response['matchings'][0]['matched_points'][0]\n",
    "    break"
   ]
  },
  {
   "cell_type": "code",
   "execution_count": null,
   "metadata": {
    "collapsed": false
   },
   "outputs": [],
   "source": [
    "osrm_request = map_request.format(*reading[['start_lat', 'start_lon']], 0)\n"
   ]
  },
  {
   "cell_type": "code",
   "execution_count": null,
   "metadata": {
    "collapsed": false
   },
   "outputs": [],
   "source": [
    "(0, 4) + (0,5,9)"
   ]
  },
  {
   "cell_type": "code",
   "execution_count": null,
   "metadata": {
    "collapsed": false
   },
   "outputs": [],
   "source": [
    "# This does not work because OSRM does not accept floats as times. \n",
    "test_map_request = map_request.format(*tuple(a_reading[['start_lat', 'start_lon', 'start_time',\n",
    "                                                'end_lat', 'end_lon', 'end_time']]))"
   ]
  },
  {
   "cell_type": "code",
   "execution_count": null,
   "metadata": {
    "collapsed": true
   },
   "outputs": [],
   "source": [
    "test_map_request = map_request.format(a_reading['start_lat'],\n",
    "                                      a_reading['start_lon'], \n",
    "                                      0,\n",
    "                                      a_reading['end_lat'],\n",
    "                                      a_reading['end_lon'],\n",
    "                                      1)"
   ]
  },
  {
   "cell_type": "code",
   "execution_count": null,
   "metadata": {
    "collapsed": false
   },
   "outputs": [],
   "source": [
    "print test_map_request\n",
    "print requests.get(test_map_request).json()"
   ]
  }
 ],
 "metadata": {
  "kernelspec": {
   "display_name": "Python 2",
   "language": "python",
   "name": "python2"
  },
  "language_info": {
   "codemirror_mode": {
    "name": "ipython",
    "version": 2
   },
   "file_extension": ".py",
   "mimetype": "text/x-python",
   "name": "python",
   "nbconvert_exporter": "python",
   "pygments_lexer": "ipython2",
   "version": "2.7.11"
  }
 },
 "nbformat": 4,
 "nbformat_minor": 0
}

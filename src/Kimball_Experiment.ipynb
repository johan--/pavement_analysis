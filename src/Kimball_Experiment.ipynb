{
 "cells": [
  {
   "cell_type": "code",
   "execution_count": null,
   "metadata": {
    "collapsed": false,
    "scrolled": false
   },
   "outputs": [],
   "source": [
    "import functools\n",
    "import geopy\n",
    "import matplotlib.pyplot as plt\n",
    "import numpy as np\n",
    "import pandas as pd\n",
    "import pyproj\n",
    "import requests\n",
    "import scipy as sp\n",
    "import rtree\n",
    "import seaborn as sb\n",
    "from scipy import signal\n",
    "# import shapely\n",
    "import shapely.geometry\n",
    "%pylab inline\n",
    "\n",
    "import data_munging"
   ]
  },
  {
   "cell_type": "code",
   "execution_count": null,
   "metadata": {
    "collapsed": false,
    "scrolled": true
   },
   "outputs": [],
   "source": [
    "reload(data_munging)"
   ]
  },
  {
   "cell_type": "code",
   "execution_count": null,
   "metadata": {
    "collapsed": false,
    "scrolled": true
   },
   "outputs": [],
   "source": [
    "rides, readings = data_munging.read_raw_data()\n",
    "readings = data_munging.clean_readings(readings)\n",
    "readings = data_munging.add_proj_to_readings(readings, data_munging.NAD83)"
   ]
  },
  {
   "cell_type": "code",
   "execution_count": null,
   "metadata": {
    "collapsed": false,
    "scrolled": true
   },
   "outputs": [],
   "source": [
    "n, p = readings.shape\n",
    "print rides.columns\n",
    "print readings.columns"
   ]
  },
  {
   "cell_type": "code",
   "execution_count": null,
   "metadata": {
    "collapsed": false,
    "scrolled": false
   },
   "outputs": [],
   "source": [
    "kimball_readings = data_munging.filter_readings_by_bb(readings, data_munging.kimball_bounding_box)\n",
    "chi_readings = data_munging.filter_readings_to_chicago(readings)"
   ]
  },
  {
   "cell_type": "markdown",
   "metadata": {},
   "source": [
    "This plot shows a number of different rides I did. The part on the right side if flat, and the loops on the left side are super bumpy."
   ]
  },
  {
   "cell_type": "code",
   "execution_count": null,
   "metadata": {
    "collapsed": false
   },
   "outputs": [],
   "source": [
    "groups = kimball_readings.groupby('ride_id')\n",
    "fig, ax = plt.subplots()\n",
    "ax.margins(0.05) # Optional, just adds 5% padding to the autoscaling\n",
    "for ride, group in groups:\n",
    "    ax.plot(group.start_x, group.start_y, marker='o', linestyle='', ms=12, label=ride)\n",
    "ax.legend()\n",
    "fig = plt.gcf()\n",
    "fig.set_size_inches(30, 30)\n",
    "plt.show()"
   ]
  },
  {
   "cell_type": "code",
   "execution_count": null,
   "metadata": {
    "collapsed": false,
    "scrolled": false
   },
   "outputs": [],
   "source": [
    "chi_readings['std_over_speed'] = chi_readings['std_total'] / chi_readings['gps_speed']\n",
    "chi_readings['std_over_speed_capped'] = chi_readings['std_over_speed'].apply(lambda x: min(x, 1.0))\n",
    "for var in ['std_total', 'std_over_speed', 'std_over_speed_capped']:\n",
    "    plot = chi_readings.plot(x='start_x', y='start_y', kind='scatter', c=var, colormap='Oranges')\n",
    "    fig = plt.gcf()\n",
    "    fig.set_size_inches(150, 150)\n",
    "    plot.set_axis_bgcolor('w')\n",
    "    plt.show()\n"
   ]
  },
  {
   "cell_type": "code",
   "execution_count": null,
   "metadata": {
    "collapsed": false,
    "scrolled": false
   },
   "outputs": [],
   "source": [
    "kimball_readings['std_over_speed'] = kimball_readings['std_total'] / kimball_readings['gps_speed']\n",
    "kimball_readings['std_over_speed_capped'] = kimball_readings['std_over_speed'].apply(lambda x: min(x, 1.0))\n",
    "for var in ['std_total', 'std_over_speed', 'std_over_speed_capped']:\n",
    "    plot = kimball_readings.plot(x='start_x', y='start_y', kind='scatter', c=var, colormap='Oranges')\n",
    "    fig = plt.gcf()\n",
    "    fig.set_size_inches(30, 30)\n",
    "    plot.set_axis_bgcolor('w')\n",
    "    plt.show()\n"
   ]
  },
  {
   "cell_type": "code",
   "execution_count": null,
   "metadata": {
    "collapsed": false
   },
   "outputs": [],
   "source": [
    "kimball_readings['std_over_speed'] = kimball_readings['std_total'] / kimball_readings['gps_speed']\n",
    "kimball_readings.plot(x='start_x', y='start_y', kind='scatter', c='std_over_speed', colormap='Oranges_r')\n",
    "fig = plt.gcf()\n",
    "fig.set_size_inches(30, 30)\n",
    "plt.show()\n"
   ]
  },
  {
   "cell_type": "code",
   "execution_count": null,
   "metadata": {
    "collapsed": false
   },
   "outputs": [],
   "source": [
    "readings_idx = data_munging.insert_readings_rtree(kimball_readings)"
   ]
  },
  {
   "cell_type": "code",
   "execution_count": null,
   "metadata": {
    "collapsed": false
   },
   "outputs": [],
   "source": [
    "min(kimball_readings.start_x)"
   ]
  },
  {
   "cell_type": "code",
   "execution_count": null,
   "metadata": {
    "collapsed": true
   },
   "outputs": [],
   "source": []
  },
  {
   "cell_type": "code",
   "execution_count": null,
   "metadata": {
    "collapsed": false
   },
   "outputs": [],
   "source": [
    "bumpy_idx = [i for i in readings_idx.intersection((351200 + 0, 584800 + 0 , 351200 + 100, 584800 + 650))]\n",
    "    "
   ]
  },
  {
   "cell_type": "code",
   "execution_count": null,
   "metadata": {
    "collapsed": false
   },
   "outputs": [],
   "source": [
    "kimball_proper_idx = [i for i in readings_idx.intersection((351200 + 280, 584800 + 500 , 351200 + 400, 584800 + 700))]"
   ]
  },
  {
   "cell_type": "code",
   "execution_count": null,
   "metadata": {
    "collapsed": false
   },
   "outputs": [],
   "source": [
    "kimball_readings.loc[kimball_proper_idx, :].plot(x='start_x', y='start_y', kind='scatter', )\n",
    "fig = plt.gcf()\n",
    "fig.set_size_inches(30, 30)\n",
    "plt.show()\n"
   ]
  },
  {
   "cell_type": "code",
   "execution_count": null,
   "metadata": {
    "collapsed": false
   },
   "outputs": [],
   "source": [
    "kimball_readings.loc[kimball_proper_idx, :].plot(x='gps_speed', y='std_total', kind='scatter')\n",
    "plt.show()"
   ]
  },
  {
   "cell_type": "code",
   "execution_count": null,
   "metadata": {
    "collapsed": false
   },
   "outputs": [],
   "source": [
    "\n"
   ]
  },
  {
   "cell_type": "code",
   "execution_count": null,
   "metadata": {
    "collapsed": false
   },
   "outputs": [],
   "source": [
    "kimball_readings.loc[bumpy_idx, :].plot(x='start_x', y='start_y', kind='scatter', )\n",
    "fig = plt.gcf()\n",
    "fig.set_size_inches(30, 30)\n",
    "plt.show()\n"
   ]
  }
 ],
 "metadata": {
  "kernelspec": {
   "display_name": "Python 2",
   "language": "python",
   "name": "python2"
  },
  "language_info": {
   "codemirror_mode": {
    "name": "ipython",
    "version": 2
   },
   "file_extension": ".py",
   "mimetype": "text/x-python",
   "name": "python",
   "nbconvert_exporter": "python",
   "pygments_lexer": "ipython2",
   "version": "2.7.11"
  }
 },
 "nbformat": 4,
 "nbformat_minor": 0
}
